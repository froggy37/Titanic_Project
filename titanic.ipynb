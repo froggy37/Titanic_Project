{
 "cells": [
  {
   "cell_type": "markdown",
   "metadata": {},
   "source": [
    "# OVERVIEW OF DATA\n",
    "The following text was obtained from the Kaggle website. It explains the data recorded in the csv file:\n",
    "\n",
    "VARIABLE DESCRIPTIONS:\n",
    "survival        Survival\n",
    "                (0 = No; 1 = Yes)\n",
    "pclass          Passenger Class\n",
    "                (1 = 1st; 2 = 2nd; 3 = 3rd)\n",
    "name            Name\n",
    "sex             Sex\n",
    "age             Age\n",
    "sibsp           Number of Siblings/Spouses Aboard\n",
    "parch           Number of Parents/Children Aboard\n",
    "ticket          Ticket Number\n",
    "fare            Passenger Fare\n",
    "cabin           Cabin\n",
    "embarked        Port of Embarkation\n",
    "                (C = Cherbourg; Q = Queenstown; S = Southampton)\n",
    "\n",
    "SPECIAL NOTES:\n",
    "Pclass is a proxy for socio-economic status (SES)\n",
    " 1st ~ Upper; 2nd ~ Middle; 3rd ~ Lower\n",
    "\n",
    "Age is in Years; Fractional if Age less than One (1)\n",
    " If the Age is Estimated, it is in the form xx.5\n",
    "\n",
    "With respect to the family relation variables (i.e. sibsp and parch)\n",
    "some relations were ignored.  The following are the definitions used\n",
    "for sibsp and parch.\n",
    "\n",
    "Sibling:  Brother, Sister, Stepbrother, or Stepsister of Passenger Aboard Titanic\n",
    "Spouse:   Husband or Wife of Passenger Aboard Titanic (Mistresses and Fiances Ignored)\n",
    "Parent:   Mother or Father of Passenger Aboard Titanic\n",
    "Child:    Son, Daughter, Stepson, or Stepdaughter of Passenger Aboard Titanic\n",
    "\n",
    "Other family relatives excluded from this study include cousins,\n",
    "nephews/nieces, aunts/uncles, and in-laws.  Some children travelled\n",
    "only with a nanny, therefore parch=0 for them.  As well, some\n",
    "travelled with very close friends or neighbors in a village, however,\n",
    "the definitions do not support such relations."
   ]
  },
  {
   "cell_type": "code",
   "execution_count": 4,
   "metadata": {},
   "outputs": [],
   "source": [
    "#import the libraries needed for the project\n",
    "\n",
    "import unicodecsv\n",
    "import matplotlib.pyplot as plt\n",
    "import numpy as np\n",
    "import pandas as pd\n",
    "import seaborn as sns"
   ]
  },
  {
   "cell_type": "markdown",
   "metadata": {},
   "source": [
    "# 1 - Initial data exploration\n",
    "The aim here is to have a sense of the overall passenger information: Number of males and females, the age distribution of the passengers, the fare distribution of the passengers, the number of passengers from each class (firs, second, third) and the number of passengers that embarked in each port."
   ]
  },
  {
   "cell_type": "code",
   "execution_count": 5,
   "metadata": {},
   "outputs": [
    {
     "data": {
      "text/html": [
       "<div>\n",
       "<style scoped>\n",
       "    .dataframe tbody tr th:only-of-type {\n",
       "        vertical-align: middle;\n",
       "    }\n",
       "\n",
       "    .dataframe tbody tr th {\n",
       "        vertical-align: top;\n",
       "    }\n",
       "\n",
       "    .dataframe thead th {\n",
       "        text-align: right;\n",
       "    }\n",
       "</style>\n",
       "<table border=\"1\" class=\"dataframe\">\n",
       "  <thead>\n",
       "    <tr style=\"text-align: right;\">\n",
       "      <th></th>\n",
       "      <th>PassengerId</th>\n",
       "      <th>Survived</th>\n",
       "      <th>Pclass</th>\n",
       "      <th>Name</th>\n",
       "      <th>Sex</th>\n",
       "      <th>Age</th>\n",
       "      <th>SibSp</th>\n",
       "      <th>Parch</th>\n",
       "      <th>Ticket</th>\n",
       "      <th>Fare</th>\n",
       "      <th>Cabin</th>\n",
       "      <th>Embarked</th>\n",
       "    </tr>\n",
       "  </thead>\n",
       "  <tbody>\n",
       "    <tr>\n",
       "      <th>0</th>\n",
       "      <td>1</td>\n",
       "      <td>0</td>\n",
       "      <td>3</td>\n",
       "      <td>Braund, Mr. Owen Harris</td>\n",
       "      <td>male</td>\n",
       "      <td>22.0</td>\n",
       "      <td>1</td>\n",
       "      <td>0</td>\n",
       "      <td>A/5 21171</td>\n",
       "      <td>7.2500</td>\n",
       "      <td>NaN</td>\n",
       "      <td>S</td>\n",
       "    </tr>\n",
       "    <tr>\n",
       "      <th>1</th>\n",
       "      <td>2</td>\n",
       "      <td>1</td>\n",
       "      <td>1</td>\n",
       "      <td>Cumings, Mrs. John Bradley (Florence Briggs Th...</td>\n",
       "      <td>female</td>\n",
       "      <td>38.0</td>\n",
       "      <td>1</td>\n",
       "      <td>0</td>\n",
       "      <td>PC 17599</td>\n",
       "      <td>71.2833</td>\n",
       "      <td>C85</td>\n",
       "      <td>C</td>\n",
       "    </tr>\n",
       "    <tr>\n",
       "      <th>2</th>\n",
       "      <td>3</td>\n",
       "      <td>1</td>\n",
       "      <td>3</td>\n",
       "      <td>Heikkinen, Miss. Laina</td>\n",
       "      <td>female</td>\n",
       "      <td>26.0</td>\n",
       "      <td>0</td>\n",
       "      <td>0</td>\n",
       "      <td>STON/O2. 3101282</td>\n",
       "      <td>7.9250</td>\n",
       "      <td>NaN</td>\n",
       "      <td>S</td>\n",
       "    </tr>\n",
       "    <tr>\n",
       "      <th>3</th>\n",
       "      <td>4</td>\n",
       "      <td>1</td>\n",
       "      <td>1</td>\n",
       "      <td>Futrelle, Mrs. Jacques Heath (Lily May Peel)</td>\n",
       "      <td>female</td>\n",
       "      <td>35.0</td>\n",
       "      <td>1</td>\n",
       "      <td>0</td>\n",
       "      <td>113803</td>\n",
       "      <td>53.1000</td>\n",
       "      <td>C123</td>\n",
       "      <td>S</td>\n",
       "    </tr>\n",
       "    <tr>\n",
       "      <th>4</th>\n",
       "      <td>5</td>\n",
       "      <td>0</td>\n",
       "      <td>3</td>\n",
       "      <td>Allen, Mr. William Henry</td>\n",
       "      <td>male</td>\n",
       "      <td>35.0</td>\n",
       "      <td>0</td>\n",
       "      <td>0</td>\n",
       "      <td>373450</td>\n",
       "      <td>8.0500</td>\n",
       "      <td>NaN</td>\n",
       "      <td>S</td>\n",
       "    </tr>\n",
       "  </tbody>\n",
       "</table>\n",
       "</div>"
      ],
      "text/plain": [
       "   PassengerId  Survived  Pclass  \\\n",
       "0            1         0       3   \n",
       "1            2         1       1   \n",
       "2            3         1       3   \n",
       "3            4         1       1   \n",
       "4            5         0       3   \n",
       "\n",
       "                                                Name     Sex   Age  SibSp  \\\n",
       "0                            Braund, Mr. Owen Harris    male  22.0      1   \n",
       "1  Cumings, Mrs. John Bradley (Florence Briggs Th...  female  38.0      1   \n",
       "2                             Heikkinen, Miss. Laina  female  26.0      0   \n",
       "3       Futrelle, Mrs. Jacques Heath (Lily May Peel)  female  35.0      1   \n",
       "4                           Allen, Mr. William Henry    male  35.0      0   \n",
       "\n",
       "   Parch            Ticket     Fare Cabin Embarked  \n",
       "0      0         A/5 21171   7.2500   NaN        S  \n",
       "1      0          PC 17599  71.2833   C85        C  \n",
       "2      0  STON/O2. 3101282   7.9250   NaN        S  \n",
       "3      0            113803  53.1000  C123        S  \n",
       "4      0            373450   8.0500   NaN        S  "
      ]
     },
     "execution_count": 5,
     "metadata": {},
     "output_type": "execute_result"
    }
   ],
   "source": [
    "# open csv file and read it as a dataframe\n",
    "titanic = pd.read_csv('titanic_data.csv')\n",
    "titanic.head()"
   ]
  },
  {
   "cell_type": "markdown",
   "metadata": {},
   "source": [
    "CALCULATE OVERALL NUMBER OF SURVIVALS AND PERCENTAGE OF SURVIVORS"
   ]
  },
  {
   "cell_type": "code",
   "execution_count": 9,
   "metadata": {},
   "outputs": [
    {
     "name": "stdout",
     "output_type": "stream",
     "text": [
      "Counts: \n",
      " Died        549\n",
      "Survived    342\n",
      "Name: Survival, dtype: int64\n",
      "Rates: \n",
      " Died        0.616162\n",
      "Survived    0.383838\n",
      "Name: Survival, dtype: float64\n"
     ]
    }
   ],
   "source": [
    "titanic = pd.read_csv('titanic_data.csv')\n",
    "titanic['Survival'] = titanic.Survived.map({0 : 'Died', 1 : 'Survived'})\n",
    "titanic.head()\n",
    "# Counts\n",
    "print('Counts:','\\n', titanic.Survival.value_counts())\n",
    "# Rates\n",
    "print('Rates:','\\n',titanic.Survival.value_counts(normalize = True))"
   ]
  },
  {
   "cell_type": "markdown",
   "metadata": {},
   "source": [
    "NUMBER OF MALES AND NUMBER OF FEMALES:"
   ]
  },
  {
   "cell_type": "code",
   "execution_count": 14,
   "metadata": {},
   "outputs": [
    {
     "name": "stdout",
     "output_type": "stream",
     "text": [
      "Number of passengers from each sex: \n",
      "male      577\n",
      "female    314\n",
      "Name: Sex, dtype: int64\n",
      "Proportion of passengers from each sex: \n",
      "male      0.647587\n",
      "female    0.352413\n",
      "Name: Sex, dtype: float64\n"
     ]
    }
   ],
   "source": [
    "# Count the number of females and males\n",
    "print 'Number of passengers from each sex:', '\\n', titanic.Sex.value_counts()\n",
    "print 'Proportion of passengers from each sex:', '\\n', titanic.Sex.value_counts(normalize=True)"
   ]
  },
  {
   "cell_type": "markdown",
   "metadata": {},
   "source": [
    "CALCULATE THE AGE DISTRIBUTION OF THE TITANIC PASSENGERS:"
   ]
  },
  {
   "cell_type": "code",
   "execution_count": 5,
   "metadata": {},
   "outputs": [
    {
     "name": "stderr",
     "output_type": "stream",
     "text": [
      "C:\\Users\\dlxtomas\\Anaconda2\\lib\\site-packages\\numpy\\lib\\function_base.py:3834: RuntimeWarning: Invalid value encountered in percentile\n",
      "  RuntimeWarning)\n"
     ]
    },
    {
     "data": {
      "text/plain": [
       "count    714.000000\n",
       "mean      29.699118\n",
       "std       14.526497\n",
       "min        0.420000\n",
       "25%             NaN\n",
       "50%             NaN\n",
       "75%             NaN\n",
       "max       80.000000\n",
       "Name: Age, dtype: float64"
      ]
     },
     "execution_count": 5,
     "metadata": {},
     "output_type": "execute_result"
    }
   ],
   "source": [
    "age = titanic['Age']\n",
    "age.describe()"
   ]
  },
  {
   "cell_type": "markdown",
   "metadata": {},
   "source": [
    "Because the statistical results of the age data are affected by the NaN values, these values have to be removed."
   ]
  },
  {
   "cell_type": "code",
   "execution_count": 6,
   "metadata": {},
   "outputs": [
    {
     "data": {
      "text/plain": [
       "count    714.000000\n",
       "mean      29.699118\n",
       "std       14.526497\n",
       "min        0.420000\n",
       "25%       20.125000\n",
       "50%       28.000000\n",
       "75%       38.000000\n",
       "max       80.000000\n",
       "Name: Age, dtype: float64"
      ]
     },
     "execution_count": 6,
     "metadata": {},
     "output_type": "execute_result"
    }
   ],
   "source": [
    "age_noNaN = age.dropna()\n",
    "age_noNaN.describe()"
   ]
  },
  {
   "cell_type": "markdown",
   "metadata": {},
   "source": [
    "In addition to the descriptive statistics regarding the age of the passengers, a histogram plot was produced to illustrate the distribution."
   ]
  },
  {
   "cell_type": "code",
   "execution_count": 7,
   "metadata": {},
   "outputs": [
    {
     "data": {
      "text/plain": [
       "<matplotlib.text.Text at 0xb2e3438>"
      ]
     },
     "execution_count": 7,
     "metadata": {},
     "output_type": "execute_result"
    },
    {
     "data": {
      "image/png": "[encoded data removed]",
      "text/plain": [
       "<matplotlib.figure.Figure at 0xb527d68>"
      ]
     },
     "metadata": {},
     "output_type": "display_data"
    }
   ],
   "source": [
    "%matplotlib inline\n",
    "#create a list of bins, starting from 0 and up to 80, with intervals of 5\n",
    "bins_age = [x*5 for x in range(17)]\n",
    "histogram_age=plt.hist(age_noNaN, bins_age)\n",
    "plt.xlabel('Passenger age')\n",
    "plt.title('Passenger Age Distribution')"
   ]
  },
  {
   "cell_type": "markdown",
   "metadata": {},
   "source": [
    "It can be seen from the histogram plot that the distribution ressembles a positively skewed normal distribution curve. In addition to that, from the plot it can be seen that the mode is in the range [20, 25] years."
   ]
  },
  {
   "cell_type": "markdown",
   "metadata": {},
   "source": [
    "CALCULATE THE NUMBER OF PASSENGERS IN EACH CLASS\n",
    "<p>A bar plot was produced to compare the number of passengers in each class."
   ]
  },
  {
   "cell_type": "code",
   "execution_count": 8,
   "metadata": {},
   "outputs": [
    {
     "name": "stdout",
     "output_type": "stream",
     "text": [
      "Axes(0.125,0.125;0.775x0.775)\n",
      "Number of passengers in each class: Third Class     491\n",
      "First Class     216\n",
      "Second Class    184\n",
      "Name: Class, dtype: int64\n"
     ]
    },
    {
     "data": {
      "image/png": "[encoded data removed]",
      "text/plain": [
       "<matplotlib.figure.Figure at 0x9ee4a20>"
      ]
     },
     "metadata": {},
     "output_type": "display_data"
    }
   ],
   "source": [
    "titanic['Class'] = titanic.Pclass.map({1 : 'First Class', 2 : 'Second Class', 3 : 'Third Class'})\n",
    "print titanic['Class'].value_counts().plot(kind='bar')\n",
    "print 'Number of passengers in each class:', titanic['Class'].value_counts()"
   ]
  },
  {
   "cell_type": "markdown",
   "metadata": {},
   "source": [
    "As it can be seen from the bar plot, most passengers were from a lower class. This was expected. However, it was surprising to find that there were more passengers from upper class than from middle class."
   ]
  },
  {
   "cell_type": "markdown",
   "metadata": {},
   "source": [
    "CALCULATE THE FARE DISTRIBUTION"
   ]
  },
  {
   "cell_type": "code",
   "execution_count": 9,
   "metadata": {},
   "outputs": [
    {
     "data": {
      "text/plain": [
       "<matplotlib.text.Text at 0xbada828>"
      ]
     },
     "execution_count": 9,
     "metadata": {},
     "output_type": "execute_result"
    },
    {
     "data": {
      "image/png": "[encoded data removed]",
      "text/plain": [
       "<matplotlib.figure.Figure at 0xb8b9390>"
      ]
     },
     "metadata": {},
     "output_type": "display_data"
    }
   ],
   "source": [
    "titanic['Fare'].describe()\n",
    "## The number of bins was chosen to be 100 because the fare values are very spread.\n",
    "plt.hist(titanic['Fare'], bins=100)\n",
    "plt.xlabel('Fare prices')\n",
    "plt.title('Distribution of Ticket Fares')"
   ]
  },
  {
   "cell_type": "markdown",
   "metadata": {},
   "source": [
    "From the above histogram plot, it can be seen that the distribution of fares is positively skewed. Furthermore, it shows that there were a large number of low ticket fares. This data coincides with the ticket class data obtained before. Since most passengers were from lower class, it is also natural that most passengers paid a low fare. In addition to that, this histogram also illustrates the large difference in fares among upper class passengers, as compared to the difference in price of tickets of lower class passengers. The skewness of the graph is evidence of this. Finally, there were some passengers that obatined a free ticket, fare = 0. These were assumed to be crew members."
   ]
  },
  {
   "cell_type": "markdown",
   "metadata": {},
   "source": [
    "CALCULATE NUMBER OF CREW MEMBERS"
   ]
  },
  {
   "cell_type": "code",
   "execution_count": 10,
   "metadata": {
    "scrolled": true
   },
   "outputs": [
    {
     "name": "stdout",
     "output_type": "stream",
     "text": [
      "Number of crew: Crew    15\n",
      "Name: crew, dtype: int64\n",
      "List of crew members: \n",
      "     PassengerId  Survived  Pclass                              Name   Sex  \\\n",
      "179          180         0       3               Leonard, Mr. Lionel  male   \n",
      "263          264         0       1             Harrison, Mr. William  male   \n",
      "271          272         1       3      Tornquist, Mr. William Henry  male   \n",
      "277          278         0       2       Parkes, Mr. Francis \"Frank\"  male   \n",
      "302          303         0       3   Johnson, Mr. William Cahoone Jr  male   \n",
      "413          414         0       2    Cunningham, Mr. Alfred Fleming  male   \n",
      "466          467         0       2             Campbell, Mr. William  male   \n",
      "481          482         0       2  Frost, Mr. Anthony Wood \"Archie\"  male   \n",
      "597          598         0       3               Johnson, Mr. Alfred  male   \n",
      "633          634         0       1     Parr, Mr. William Henry Marsh  male   \n",
      "674          675         0       2        Watson, Mr. Ennis Hastings  male   \n",
      "732          733         0       2              Knight, Mr. Robert J  male   \n",
      "806          807         0       1            Andrews, Mr. Thomas Jr  male   \n",
      "815          816         0       1                  Fry, Mr. Richard  male   \n",
      "822          823         0       1   Reuchlin, Jonkheer. John George  male   \n",
      "\n",
      "      Age  SibSp  Parch  Ticket  Fare Cabin Embarked  Survival         Class  \\\n",
      "179  36.0      0      0    LINE   0.0   NaN        S      Died   Third Class   \n",
      "263  40.0      0      0  112059   0.0   B94        S      Died   First Class   \n",
      "271  25.0      0      0    LINE   0.0   NaN        S  Survived   Third Class   \n",
      "277   NaN      0      0  239853   0.0   NaN        S      Died  Second Class   \n",
      "302  19.0      0      0    LINE   0.0   NaN        S      Died   Third Class   \n",
      "413   NaN      0      0  239853   0.0   NaN        S      Died  Second Class   \n",
      "466   NaN      0      0  239853   0.0   NaN        S      Died  Second Class   \n",
      "481   NaN      0      0  239854   0.0   NaN        S      Died  Second Class   \n",
      "597  49.0      0      0    LINE   0.0   NaN        S      Died   Third Class   \n",
      "633   NaN      0      0  112052   0.0   NaN        S      Died   First Class   \n",
      "674   NaN      0      0  239856   0.0   NaN        S      Died  Second Class   \n",
      "732   NaN      0      0  239855   0.0   NaN        S      Died  Second Class   \n",
      "806  39.0      0      0  112050   0.0   A36        S      Died   First Class   \n",
      "815   NaN      0      0  112058   0.0  B102        S      Died   First Class   \n",
      "822  38.0      0      0   19972   0.0   NaN        S      Died   First Class   \n",
      "\n",
      "     crew  \n",
      "179  Crew  \n",
      "263  Crew  \n",
      "271  Crew  \n",
      "277  Crew  \n",
      "302  Crew  \n",
      "413  Crew  \n",
      "466  Crew  \n",
      "481  Crew  \n",
      "597  Crew  \n",
      "633  Crew  \n",
      "674  Crew  \n",
      "732  Crew  \n",
      "806  Crew  \n",
      "815  Crew  \n",
      "822  Crew  \n"
     ]
    }
   ],
   "source": [
    "#Number of crew members\n",
    "titanic['crew'] = titanic.Fare.map({0:'Crew'})\n",
    "print 'Number of crew:', titanic['crew'].value_counts()\n",
    "print 'List of crew members:','\\n', titanic.loc[titanic['crew'].dropna().index]"
   ]
  },
  {
   "cell_type": "markdown",
   "metadata": {},
   "source": [
    "As we can see from the printed list of the 15 crew members (out of 891 passengers), all of them are male. This further confirms the suspicions that the passengers with a 0 fare were crew members, since in 1911 few women worked. From the 15 crew members only one survived. It is also interseting that among crew members there were different classes indicating that there was perhaps a hierarchy among the crew (captain, offficers ...)"
   ]
  },
  {
   "cell_type": "markdown",
   "metadata": {},
   "source": [
    "CALCULATE NUMBER OF PASSENGERS FROM EACH PORT. IDENTIFY WHETHER THERE IS A CORRELATION BETWEEN EMBARKING PORT AND CLASS"
   ]
  },
  {
   "cell_type": "code",
   "execution_count": 11,
   "metadata": {},
   "outputs": [
    {
     "name": "stdout",
     "output_type": "stream",
     "text": [
      "Number of passengers from each port: \n",
      "Southampton    644\n",
      "Cherbourg      168\n",
      "Queenstown      77\n",
      "Name: Ports, dtype: int64\n",
      "Passenger missing embarking record: 2\n"
     ]
    },
    {
     "data": {
      "image/png": "[encoded data removed]",
      "text/plain": [
       "<matplotlib.figure.Figure at 0xbd23668>"
      ]
     },
     "metadata": {},
     "output_type": "display_data"
    }
   ],
   "source": [
    "titanic['Ports'] = titanic.Embarked.map({'C' : 'Cherbourg', 'Q' : 'Queenstown', 'S' : 'Southampton'})\n",
    "titanic['Class'] = titanic.Pclass.map({1 : 'First Class', 2 : 'Second Class', 3 : 'Third Class'})\n",
    "titanic.groupby('Ports')['Class'].value_counts().unstack().plot(kind = 'bar')\n",
    "print 'Number of passengers from each port:', '\\n', titanic['Ports'].value_counts()\n",
    "print 'Passenger missing embarking record:', 891 - titanic['Ports'].value_counts().sum()"
   ]
  },
  {
   "cell_type": "markdown",
   "metadata": {},
   "source": [
    "Most passengers embarked in Southampton. 2 passengers did not have an embarking record."
   ]
  },
  {
   "cell_type": "markdown",
   "metadata": {},
   "source": [
    "As it can be seen from the the bar plots for each embarking point, most passengers embarked in Southampton. The number of passengers from each class(SES), which embarked in Southampton, is similar to the overall number of titanic passengers from each class(shown in one of the previous bar plots), with the exception that slightly more middle class passengers embarked in comparison to the number of upper class passengers embarking in Southampton. In Queenstown, however, mostly lower class passengers embarked. Finally, Cherbourg showed the largest proportion of upper class passeners which embarked there. The purpose of producing these bar plot was to obtain insight into the average SES of the citizens from these three cities, by using the titanic data as a sample. "
   ]
  },
  {
   "cell_type": "markdown",
   "metadata": {},
   "source": [
    "# 2 - How was survival affected by age and gender?"
   ]
  },
  {
   "cell_type": "code",
   "execution_count": 15,
   "metadata": {},
   "outputs": [
    {
     "name": "stdout",
     "output_type": "stream",
     "text": [
      "Male survival proportion: 0.188908145581\n",
      "Female survival proportion: 0.742038216561\n"
     ]
    }
   ],
   "source": [
    "survival_sex = titanic[['Sex', 'Survived']]\n",
    "##Because the Survived column can only be 1 or 0, a groupby object was created and the sum of Survived values for each sex\n",
    "## was calculated, which is the same as the number of survivors.\n",
    "survivors_sex = survival_sex.groupby('Sex').sum()\n",
    "survivors_female_rate = float(survivors_sex['Survived']['female'])/titanic.Sex.value_counts()['female']\n",
    "survivors_male_rate = float(survivors_sex['Survived']['male'])/titanic.Sex.value_counts()['male']\n",
    "## The proportions where calculated by dividing the number of surviving passengers from one sex by the \n",
    "## total number of passengers of that sex.\n",
    "print 'Male survival proportion:', survivors_male_rate\n",
    "print 'Female survival proportion:', survivors_female_rate"
   ]
  },
  {
   "cell_type": "markdown",
   "metadata": {},
   "source": [
    "The percentage of surviving female passengers was found to be 74% and the percentage of surviving male passengers was much lower with a value of 19%."
   ]
  },
  {
   "cell_type": "code",
   "execution_count": 16,
   "metadata": {},
   "outputs": [
    {
     "data": {
      "text/plain": [
       "<matplotlib.text.Text at 0xc791898>"
      ]
     },
     "execution_count": 16,
     "metadata": {},
     "output_type": "execute_result"
    },
    {
     "data": {
      "image/png": "[encoded data removed]",
      "text/plain": [
       "<matplotlib.figure.Figure at 0xc7847f0>"
      ]
     },
     "metadata": {},
     "output_type": "display_data"
    }
   ],
   "source": [
    "survival_age = titanic[['Age', 'Survived']]\n",
    "survivors_age = survival_age[survival_age['Survived']==1]\n",
    "## Have to use dropna to remova NaN values. Bins for the following histogram have to be the same as the bins for the previous\n",
    "## age distribution histogram in order to be able to compare the data. That is why the same variable, bins_age, is used.\n",
    "histogram_survivors_age = plt.hist(survivors_age['Age'].dropna(), bins_age)\n",
    "## To calculate the survival proportion for each age group displayed in the previous histogram, the first array of the plt.hist\n",
    "## output used. Then a division was done between the array containing the data of the age of survivors and the array of \n",
    "# the data containing the age of all passengers(survivors and non survivors. This histogram was in the initial data exploration).\n",
    "survival_rate_age = histogram_survivors_age[0]/histogram_age[0]\n",
    "plt.title('Histogram of Survivors Ages')\n",
    "plt.xlabel('Passenger Ages')"
   ]
  },
  {
   "cell_type": "code",
   "execution_count": 17,
   "metadata": {},
   "outputs": [
    {
     "data": {
      "text/plain": [
       "<matplotlib.text.Text at 0xcc28518>"
      ]
     },
     "execution_count": 17,
     "metadata": {},
     "output_type": "execute_result"
    },
    {
     "data": {
      "image/png": "[encoded data removed]",
      "text/plain": [
       "<matplotlib.figure.Figure at 0xc2511d0>"
      ]
     },
     "metadata": {},
     "output_type": "display_data"
    }
   ],
   "source": [
    "## A bar plot was produced to compare the survival proportion for each age group.\n",
    "## bins-age[:16] had to be used to match the number of elements in the survival_rate_age array to the elements in the list bins_age\n",
    "## Because the bar_width was equalled to 5, the last number of the list, 80, was removed, as that values would be included\n",
    "## in the bin 75 to 80.\n",
    "plt.bar(bins_age[:16], survival_rate_age, width=5, align='edge')\n",
    "plt.xlabel('Passenger Ages')\n",
    "plt.ylabel('Survival Proportion')\n",
    "plt.title('Survival Proportion for Each Age Group')"
   ]
  },
  {
   "cell_type": "code",
   "execution_count": 18,
   "metadata": {},
   "outputs": [
    {
     "data": {
      "text/html": [
       "<div>\n",
       "<table border=\"1\" class=\"dataframe\">\n",
       "  <thead>\n",
       "    <tr style=\"text-align: right;\">\n",
       "      <th></th>\n",
       "      <th>PassengerId</th>\n",
       "      <th>Survived</th>\n",
       "      <th>Pclass</th>\n",
       "      <th>Name</th>\n",
       "      <th>Sex</th>\n",
       "      <th>Age</th>\n",
       "      <th>SibSp</th>\n",
       "      <th>Parch</th>\n",
       "      <th>Ticket</th>\n",
       "      <th>Fare</th>\n",
       "      <th>Cabin</th>\n",
       "      <th>Embarked</th>\n",
       "      <th>Survival</th>\n",
       "      <th>Class</th>\n",
       "      <th>crew</th>\n",
       "      <th>Ports</th>\n",
       "    </tr>\n",
       "  </thead>\n",
       "  <tbody>\n",
       "    <tr>\n",
       "      <th>630</th>\n",
       "      <td>631</td>\n",
       "      <td>1</td>\n",
       "      <td>1</td>\n",
       "      <td>Barkworth, Mr. Algernon Henry Wilson</td>\n",
       "      <td>male</td>\n",
       "      <td>80.0</td>\n",
       "      <td>0</td>\n",
       "      <td>0</td>\n",
       "      <td>27042</td>\n",
       "      <td>30.0</td>\n",
       "      <td>A23</td>\n",
       "      <td>S</td>\n",
       "      <td>Survived</td>\n",
       "      <td>First Class</td>\n",
       "      <td>NaN</td>\n",
       "      <td>Southampton</td>\n",
       "    </tr>\n",
       "  </tbody>\n",
       "</table>\n",
       "</div>"
      ],
      "text/plain": [
       "     PassengerId  Survived  Pclass                                  Name  \\\n",
       "630          631         1       1  Barkworth, Mr. Algernon Henry Wilson   \n",
       "\n",
       "      Sex   Age  SibSp  Parch Ticket  Fare Cabin Embarked  Survival  \\\n",
       "630  male  80.0      0      0  27042  30.0   A23        S  Survived   \n",
       "\n",
       "           Class crew        Ports  \n",
       "630  First Class  NaN  Southampton  "
      ]
     },
     "execution_count": 18,
     "metadata": {},
     "output_type": "execute_result"
    }
   ],
   "source": [
    "## I was curious about 100% survival rate for passengers older than 75. So I decided to check them out in order to see if there\n",
    "## was something wrong about the data.\n",
    "titanic[titanic['Age']>75]"
   ]
  },
  {
   "cell_type": "markdown",
   "metadata": {},
   "source": [
    "The reason why there is a 100% survival rate for passengers older than 75 and younger than 80 is because there was only one passenger with such an age, and he happened to survive. Therefore, the 100% survival rate for the last bar in the survival proportion vs age bar plot should be ignored."
   ]
  },
  {
   "cell_type": "markdown",
   "metadata": {},
   "source": [
    "Therefore, if the last bar is ignored, it can be appreciated that children younger than 10 had a higher survival proportion than other passengers. For the other age groups the survival proportion is fairly similar. The minimum survival proportion occurs for passengers older than 20 and younger than 25. This might be because most passengers in those ages were from a lower class. The next bit of code will investigate this conjecture."
   ]
  },
  {
   "cell_type": "code",
   "execution_count": 19,
   "metadata": {},
   "outputs": [
    {
     "name": "stdout",
     "output_type": "stream",
     "text": [
      "Axes(0.125,0.125;0.775x0.775)\n"
     ]
    },
    {
     "data": {
      "image/png": "[encoded data removed]",
      "text/plain": [
       "<matplotlib.figure.Figure at 0xcc10d30>"
      ]
     },
     "metadata": {},
     "output_type": "display_data"
    }
   ],
   "source": [
    "older_20 = titanic[titanic['Age']>20]\n",
    "older_20_younger_25 = older_20[older_20['Age']<25]\n",
    "print older_20_younger_25.Class.value_counts().plot(kind='bar')"
   ]
  },
  {
   "cell_type": "markdown",
   "metadata": {},
   "source": [
    "If this bar plot is compared to the bar plot showing the total number of passengers in each class, it can be seen that they both display similar proportions of passengers in each class. Thus the conjecture was not true."
   ]
  },
  {
   "cell_type": "markdown",
   "metadata": {},
   "source": [
    "Just out of curiosity, I want to see if there is a correlation between the sex of passengers aged between 20 and 25, and their low survival proportion. I want to see if the passengers aged between 20 and 25 were mostly males, because if that is the case, their low survival proportion could be explained due to the large presence of males in the data, which was shown before had a much lower survival proportion than females."
   ]
  },
  {
   "cell_type": "code",
   "execution_count": 20,
   "metadata": {},
   "outputs": [
    {
     "name": "stdout",
     "output_type": "stream",
     "text": [
      "number of males between 20 and 25 years old: 59\n",
      "number of females between 20 and 25 years old: 40\n"
     ]
    }
   ],
   "source": [
    "sex_older_20_younger_25 = titanic.loc[older_20_younger_25.index]['Sex']\n",
    "print 'number of males between 20 and 25 years old:', len(sex_older_20_younger_25[sex_older_20_younger_25 =='male'])\n",
    "print 'number of females between 20 and 25 years old:', len(sex_older_20_younger_25[sex_older_20_younger_25=='female'])"
   ]
  },
  {
   "cell_type": "markdown",
   "metadata": {},
   "source": [
    "The number of males between 20 and 25 was found to be 351 and the females 184, which gives a male to female ratio of 1.9, which is very similar to the 1.84 male to female ratio of all the titanic passengers. Hence, there does not seem to be a correlation between the sex of passengers between 20 and 25 and their survival rate."
   ]
  },
  {
   "cell_type": "markdown",
   "metadata": {},
   "source": [
    "# 3 - Was survival affected by socio-economic status or fare price?"
   ]
  },
  {
   "cell_type": "code",
   "execution_count": 55,
   "metadata": {},
   "outputs": [
    {
     "data": {
      "text/plain": [
       "<matplotlib.axes._subplots.AxesSubplot at 0xf4125f8>"
      ]
     },
     "execution_count": 55,
     "metadata": {},
     "output_type": "execute_result"
    },
    {
     "data": {
      "image/png": "[encoded data removed]",
      "text/plain": [
       "<matplotlib.figure.Figure at 0xf321e48>"
      ]
     },
     "metadata": {},
     "output_type": "display_data"
    }
   ],
   "source": [
    "## I want to see the number of survivors from each class. Because there were different number of passengers from each class\n",
    "## the proportion has to be calculated to obtain insight into the possible relationship between ses and survival.\n",
    "## the countin class function is used again here to compare the number of survivors from each class and calculate the \n",
    "## survival proportion for each class.\n",
    "titanic.groupby('Survival')['Class'].value_counts().unstack(level=-1).plot(kind='bar')"
   ]
  },
  {
   "cell_type": "markdown",
   "metadata": {},
   "source": [
    "I am going to run a t test to identify whether the survival for the upper class passengers is statistically significant."
   ]
  },
  {
   "cell_type": "markdown",
   "metadata": {},
   "source": [
    "The null hypotheses is that the mean survival (survival proportion) is the same in upper class passengers as it is in lower class passengers. The alternative hypotheses is that the survival of upper class passengers is greater than those of lower class. The t test is going to be a positive one tail t-test. Also, it a two indenpendent sample with unequal sample sizes and variances t-test."
   ]
  },
  {
   "cell_type": "code",
   "execution_count": 22,
   "metadata": {},
   "outputs": [
    {
     "name": "stdout",
     "output_type": "stream",
     "text": [
      "Upper class descriptive stats: count    216.000000\n",
      "mean       0.629630\n",
      "std        0.484026\n",
      "min        0.000000\n",
      "25%        0.000000\n",
      "50%        1.000000\n",
      "75%        1.000000\n",
      "max        1.000000\n",
      "Name: Survived, dtype: float64\n",
      "Lower class descriptive stats: count    491.000000\n",
      "mean       0.242363\n",
      "std        0.428949\n",
      "min        0.000000\n",
      "25%        0.000000\n",
      "50%        0.000000\n",
      "75%        0.000000\n",
      "max        1.000000\n",
      "Name: Survived, dtype: float64\n",
      "t value: 10.623796624\n",
      "degree of freedom: 705.0\n",
      "Standard error: 0.0364527972324\n"
     ]
    }
   ],
   "source": [
    "## T TEST comparing survival in upper class and in lower class\n",
    "upper_class_data = titanic[titanic.Class=='First Class']['Survived']\n",
    "lower_class_data = titanic[titanic.Class=='Third Class']['Survived']\n",
    "upper_class_mean = upper_class_data.mean()\n",
    "lower_class_mean = lower_class_data.mean()\n",
    "upper_class_std = upper_class_data.std()\n",
    "lower_class_std = lower_class_data.std()\n",
    "upper_class_samplesize = float(len(upper_class_data))\n",
    "lower_class_samplesize = float(len(lower_class_data))\n",
    "degree_freedom = upper_class_samplesize + lower_class_samplesize -2\n",
    "pool_variance = (((upper_class_data - upper_class_mean)**(2)).sum())/degree_freedom + \\\n",
    "                (((lower_class_data - lower_class_mean)**(2)).sum())/degree_freedom\n",
    "standard_error = (pool_variance/upper_class_samplesize + pool_variance/lower_class_samplesize)**(float(1)/2)\n",
    "t_value = (upper_class_mean - lower_class_mean)/standard_error\n",
    "print 'Upper class descriptive stats:', upper_class_data.describe()\n",
    "print 'Lower class descriptive stats:', lower_class_data.describe()\n",
    "print 't value:', t_value\n",
    "print 'degree of freedom:', degree_freedom\n",
    "print 'Standard error:', standard_error"
   ]
  },
  {
   "cell_type": "markdown",
   "metadata": {
    "collapsed": true
   },
   "source": [
    "The t critical value I obtained from an online t table. The link is: http://faculty.washington.edu/heagerty/Books/Biostatistics/TABLES/t-Tables/\n",
    "Because there are 705 degrees of freedom and the table only has values for up to 500, I approximated the t value to the value for 500 degrees of freedom. The t critical value was found for an alpha level of 5%."
   ]
  },
  {
   "cell_type": "code",
   "execution_count": 23,
   "metadata": {},
   "outputs": [
    {
     "name": "stdout",
     "output_type": "stream",
     "text": [
      "alpha_level: 0.05\n",
      "t critical: 1.65\n",
      "upper confidence interval: 0.447414219605\n",
      "lower confidence interval: 0.327119988738\n"
     ]
    }
   ],
   "source": [
    "print 'alpha_level:', 0.05\n",
    "print 't critical:', 1.65\n",
    "print 'upper confidence interval:', upper_class_mean-lower_class_mean + 1.65*standard_error\n",
    "print 'lower confidence interval:', upper_class_mean-lower_class_mean - 1.65*standard_error"
   ]
  },
  {
   "cell_type": "markdown",
   "metadata": {},
   "source": [
    "Because the t value is larger than the t critical value the null can be rejected. This mean that it is statistically signficant that ther was a larger survival proportion for upper class passengers than that for lower class passengers."
   ]
  },
  {
   "cell_type": "code",
   "execution_count": 24,
   "metadata": {},
   "outputs": [
    {
     "data": {
      "text/plain": [
       "([<matplotlib.axis.XTick at 0xd0f72b0>,\n",
       "  <matplotlib.axis.XTick at 0xd442048>,\n",
       "  <matplotlib.axis.XTick at 0xd3ae048>,\n",
       "  <matplotlib.axis.XTick at 0xd8ab0f0>],\n",
       " <a list of 4 Text xticklabel objects>)"
      ]
     },
     "execution_count": 24,
     "metadata": {},
     "output_type": "execute_result"
    },
    {
     "data": {
      "image/png": "[encoded data removed]",
      "text/plain": [
       "<matplotlib.figure.Figure at 0xd04e128>"
      ]
     },
     "metadata": {},
     "output_type": "display_data"
    }
   ],
   "source": [
    "## I want to produce a histogram for the fares paid by surviving passengers and another one for the fares paid by dead passengers\n",
    "## and then compare them. In order to produce an effective comparison, it is important that both graphs have the same axis values.\n",
    "survival_fare = titanic[['Fare', 'Survived']]\n",
    "survivors_fare = survival_fare[survival_fare['Survived']==1]\n",
    "perished_fare = survival_fare[survival_fare['Survived']==0]\n",
    "y_axis_values = [10*y for y in range(16)]\n",
    "x_axis_values = [100*x for x in range(4)]\n",
    "plt.hist(survivors_fare['Fare'], bins = 100)\n",
    "plt.title('Distribution of Fares for Surviving Passengers')\n",
    "plt.xlabel('Fares')\n",
    "plt.yticks(y_axis_values)\n",
    "plt.xticks(x_axis_values)"
   ]
  },
  {
   "cell_type": "code",
   "execution_count": 25,
   "metadata": {},
   "outputs": [
    {
     "data": {
      "text/plain": [
       "([<matplotlib.axis.XTick at 0xd038978>,\n",
       "  <matplotlib.axis.XTick at 0xcad3c18>,\n",
       "  <matplotlib.axis.XTick at 0xcd83c50>,\n",
       "  <matplotlib.axis.XTick at 0xc6d59b0>],\n",
       " <a list of 4 Text xticklabel objects>)"
      ]
     },
     "execution_count": 25,
     "metadata": {},
     "output_type": "execute_result"
    },
    {
     "data": {
      "image/png": "[encoded data removed]",
      "text/plain": [
       "<matplotlib.figure.Figure at 0xcbee780>"
      ]
     },
     "metadata": {},
     "output_type": "display_data"
    }
   ],
   "source": [
    "plt.hist(perished_fare['Fare'], bins=100)\n",
    "plt.title('Distribution of Fares for Perished Passengers')\n",
    "plt.xlabel('Fares')\n",
    "plt.yticks(y_axis_values)\n",
    "plt.xticks(x_axis_values)"
   ]
  },
  {
   "cell_type": "markdown",
   "metadata": {},
   "source": [
    "Comparing the distribution of fares for perished and passengers who survived, it can be seen that a larger number of passengers, who paid fares below approximately 50, perished in comparison to those who survived having paid similar fares. This trend changes at fares above 50 (approximately), where the number of surviving passengers exceeds the number of perished passengers. I believe this could coincide with the fact that the survival proportions were larger for passengers from the upper class."
   ]
  },
  {
   "cell_type": "markdown",
   "metadata": {},
   "source": [
    "I want to see whether the increase in survival proportion for fares above 50 is mainly because those passengers were from upper class, or because they paid larger fares even whithin the upper class group"
   ]
  },
  {
   "cell_type": "code",
   "execution_count": 26,
   "metadata": {},
   "outputs": [
    {
     "name": "stdout",
     "output_type": "stream",
     "text": [
      "Survival proportion for upper class passengers with fares less than 50: 100.0 %\n"
     ]
    }
   ],
   "source": [
    "## I want to find the passengers from upper class who paid fares below 50 and above 0 to exclude crew members.\n",
    "## Then I want to see the proportion of those passengers who survived.\n",
    "fares_upper = titanic[['Fare','Pclass','Survived']][titanic['Pclass']==1]\n",
    "fares_upper_survived = fares_upper[fares_upper >0][fares_upper<50].dropna()['Survived']\n",
    "print 'Survival proportion for upper class passengers with fares less than 50:', fares_upper_survived.mean()*100, '%'"
   ]
  },
  {
   "cell_type": "markdown",
   "metadata": {},
   "source": [
    "Since all the upper class passengers who paid fares below 50 survived, it can conluded that the increase in survival proportion viewed in the previous histograms was due to the passengers SES. Because those passengers paid larger fares, the survival proportion for bigger fares is higher than for lower ones. However,this is due to their SES primarily, and indirectedly to the fares paid. Otherwise, the survival proportion for the lowest paying upper class passengers would be less than for the highest paying upper class passengers which is not the case."
   ]
  },
  {
   "cell_type": "markdown",
   "metadata": {},
   "source": [
    "# 4- How was survival related to passengers with family?\n",
    "<p> It was assumed that a family can be formed by a person with children, a person with a spouse, a person with a parent or a person with a sibling. A nanny with a children was considered as a special type of family."
   ]
  },
  {
   "cell_type": "code",
   "execution_count": 27,
   "metadata": {
    "scrolled": true
   },
   "outputs": [
    {
     "name": "stdout",
     "output_type": "stream",
     "text": [
      "Surival proportion for family members: 0.511520737327\n",
      "Survival proportion for passengers travelling alone: 0.32\n"
     ]
    }
   ],
   "source": [
    "passenger_family = titanic[['Name', 'Parch', 'SibSp','Survived','Age']]\n",
    "#Lets checks if any family name is repeated in the data.\n",
    "#In other words, I want to see if there are two or more people in the data belonging to the same family.\n",
    "passenger_noparch=passenger_family.groupby('Parch').groups[0]\n",
    "passenger_nosibsp = passenger_family.groupby('SibSp').groups[0]\n",
    "individuals = passenger_family.loc[passenger_noparch].loc[passenger_nosibsp].dropna()\n",
    "## Among individuals there is going to be children travelling with nannies. Those have to be appended to the passenger_yesfamily\n",
    "## I will assume that children older than 14 would travel alone. \n",
    "children_nanny = individuals[individuals['Age']<=14]\n",
    "passenger_nofamily = individuals[individuals['Age']>14]\n",
    "passenger_yesfamily = passenger_family[passenger_family.Parch !=0].append(children_nanny)\n",
    "print 'Surival proportion for family members:', passenger_yesfamily['Survived'].mean()\n",
    "print 'Survival proportion for passengers travelling alone:', passenger_nofamily['Survived'].mean()\n",
    "# have to append to passenger_yesfamily the ones that have sibsp but not parch"
   ]
  },
  {
   "cell_type": "code",
   "execution_count": 28,
   "metadata": {},
   "outputs": [
    {
     "name": "stdout",
     "output_type": "stream",
     "text": [
      "There are no repeated family names\n",
      "Number of families aboard the titanic: 217\n",
      "Average number of family members: 3.97235023041\n"
     ]
    }
   ],
   "source": [
    "## number of family members. use assign to create new column.\n",
    "family_members = passenger_yesfamily.assign(numberofmembers = passenger_yesfamily['SibSp']+passenger_yesfamily['Parch']+1)\n",
    "family_lastname = family_members.assign(lastname = family_members['Name'].str.split().str[0])\n",
    "## I want to know whether there are two persons from different families but with the same family name.\n",
    "## Some families have two worded lastnames\n",
    "if len(family_lastname.groupby('Name')['numberofmembers'].max())-len(family_lastname.groupby('lastname').groups)<0:\n",
    "    print 'There are repeated family names'\n",
    "else:\n",
    "    print 'There are no repeated family names'\n",
    "    print 'Number of families aboard the titanic:', len(family_lastname.groupby('Name').groups)\n",
    "    print 'Average number of family members:', family_members['numberofmembers'].mean()"
   ]
  },
  {
   "cell_type": "code",
   "execution_count": 29,
   "metadata": {
    "collapsed": true
   },
   "outputs": [],
   "source": [
    "## let's examine survival depending on your title within a family (Mr, Miss, Master, Mrs)"
   ]
  },
  {
   "cell_type": "code",
   "execution_count": 30,
   "metadata": {},
   "outputs": [
    {
     "name": "stdout",
     "output_type": "stream",
     "text": [
      "['Miss.', 'Rev.', 'Mrs.', 'Capt.', 'Impe,', 'Mr.', 'Billiard,', 'Master.']\n"
     ]
    }
   ],
   "source": [
    "## First I need to identify the different titles.\n",
    "x = family_lastname.groupby(family_lastname['Name'].str.split().str[1])\n",
    "print x.groups.keys()"
   ]
  },
  {
   "cell_type": "markdown",
   "metadata": {},
   "source": [
    "Some of the titles I dont recognize, so I am just going to print them out to examine them."
   ]
  },
  {
   "cell_type": "code",
   "execution_count": 31,
   "metadata": {},
   "outputs": [
    {
     "name": "stdout",
     "output_type": "stream",
     "text": [
      "                  Name  Parch  SibSp  Survived   Age  numberofmembers lastname\n",
      "848  Harper, Rev. John    1.0    0.0       0.0  28.0              2.0  Harper,\n",
      "                                                  Name  Parch  SibSp  \\\n",
      "419                          Van Impe, Miss. Catharina    2.0    0.0   \n",
      "595                        Van Impe, Mr. Jean Baptiste    1.0    1.0   \n",
      "799  Van Impe, Mrs. Jean Baptiste (Rosalie Paula Go...    1.0    1.0   \n",
      "\n",
      "     Survived   Age  numberofmembers lastname  \n",
      "419       0.0  10.0              3.0      Van  \n",
      "595       0.0  36.0              3.0      Van  \n",
      "799       0.0  30.0              3.0      Van  \n",
      "                                Name  Parch  SibSp  Survived   Age  \\\n",
      "153  van Billiard, Mr. Austin Blyler    2.0    0.0       0.0  40.5   \n",
      "\n",
      "     numberofmembers lastname  \n",
      "153              3.0      van  \n",
      "                             Name  Parch  SibSp  Survived   Age  \\\n",
      "745  Crosby, Capt. Edward Gifford    1.0    1.0       0.0  70.0   \n",
      "\n",
      "     numberofmembers lastname  \n",
      "745              3.0  Crosby,  \n"
     ]
    }
   ],
   "source": [
    "print family_lastname.loc[x.groups['Rev.']]\n",
    "print family_lastname.loc[x.groups['Impe,']]\n",
    "print family_lastname.loc[x.groups['Billiard,']]\n",
    "print family_lastname.loc[x.groups['Capt.']]"
   ]
  },
  {
   "cell_type": "markdown",
   "metadata": {},
   "source": [
    "Capt is really a Mr and so is Rev. Impe and Billiard are errors produced by the fact that their lastname is made up of two words. Have to fix this. This also influences the lastname column, meaning it is wrong for those rows. Luckily the number of families calculated before still stands correct because although both Van Impe and van Billiard, begin with van, one has capital V and the other lowercase."
   ]
  },
  {
   "cell_type": "code",
   "execution_count": 32,
   "metadata": {},
   "outputs": [
    {
     "data": {
      "text/html": [
       "<div>\n",
       "<table border=\"1\" class=\"dataframe\">\n",
       "  <thead>\n",
       "    <tr style=\"text-align: right;\">\n",
       "      <th></th>\n",
       "      <th>Name</th>\n",
       "      <th>Parch</th>\n",
       "      <th>SibSp</th>\n",
       "      <th>Survived</th>\n",
       "      <th>Age</th>\n",
       "      <th>numberofmembers</th>\n",
       "      <th>lastname</th>\n",
       "      <th>title</th>\n",
       "    </tr>\n",
       "  </thead>\n",
       "  <tbody>\n",
       "    <tr>\n",
       "      <th>7</th>\n",
       "      <td>Palsson, Master. Gosta Leonard</td>\n",
       "      <td>1.0</td>\n",
       "      <td>3.0</td>\n",
       "      <td>0.0</td>\n",
       "      <td>2.00</td>\n",
       "      <td>5.0</td>\n",
       "      <td>Palsson,</td>\n",
       "      <td>Master.</td>\n",
       "    </tr>\n",
       "    <tr>\n",
       "      <th>8</th>\n",
       "      <td>Johnson, Mrs. Oscar W (Elisabeth Vilhelmina Berg)</td>\n",
       "      <td>2.0</td>\n",
       "      <td>0.0</td>\n",
       "      <td>1.0</td>\n",
       "      <td>27.00</td>\n",
       "      <td>3.0</td>\n",
       "      <td>Johnson,</td>\n",
       "      <td>Mrs.</td>\n",
       "    </tr>\n",
       "    <tr>\n",
       "      <th>10</th>\n",
       "      <td>Sandstrom, Miss. Marguerite Rut</td>\n",
       "      <td>1.0</td>\n",
       "      <td>1.0</td>\n",
       "      <td>1.0</td>\n",
       "      <td>4.00</td>\n",
       "      <td>3.0</td>\n",
       "      <td>Sandstrom,</td>\n",
       "      <td>Miss.</td>\n",
       "    </tr>\n",
       "    <tr>\n",
       "      <th>13</th>\n",
       "      <td>Andersson, Mr. Anders Johan</td>\n",
       "      <td>5.0</td>\n",
       "      <td>1.0</td>\n",
       "      <td>0.0</td>\n",
       "      <td>39.00</td>\n",
       "      <td>7.0</td>\n",
       "      <td>Andersson,</td>\n",
       "      <td>Mr.</td>\n",
       "    </tr>\n",
       "    <tr>\n",
       "      <th>16</th>\n",
       "      <td>Rice, Master. Eugene</td>\n",
       "      <td>1.0</td>\n",
       "      <td>4.0</td>\n",
       "      <td>0.0</td>\n",
       "      <td>2.00</td>\n",
       "      <td>6.0</td>\n",
       "      <td>Rice,</td>\n",
       "      <td>Master.</td>\n",
       "    </tr>\n",
       "    <tr>\n",
       "      <th>24</th>\n",
       "      <td>Palsson, Miss. Torborg Danira</td>\n",
       "      <td>1.0</td>\n",
       "      <td>3.0</td>\n",
       "      <td>0.0</td>\n",
       "      <td>8.00</td>\n",
       "      <td>5.0</td>\n",
       "      <td>Palsson,</td>\n",
       "      <td>Miss.</td>\n",
       "    </tr>\n",
       "    <tr>\n",
       "      <th>25</th>\n",
       "      <td>Asplund, Mrs. Carl Oscar (Selma Augusta Emilia...</td>\n",
       "      <td>5.0</td>\n",
       "      <td>1.0</td>\n",
       "      <td>1.0</td>\n",
       "      <td>38.00</td>\n",
       "      <td>7.0</td>\n",
       "      <td>Asplund,</td>\n",
       "      <td>Mrs.</td>\n",
       "    </tr>\n",
       "    <tr>\n",
       "      <th>27</th>\n",
       "      <td>Fortune, Mr. Charles Alexander</td>\n",
       "      <td>2.0</td>\n",
       "      <td>3.0</td>\n",
       "      <td>0.0</td>\n",
       "      <td>19.00</td>\n",
       "      <td>6.0</td>\n",
       "      <td>Fortune,</td>\n",
       "      <td>Mr.</td>\n",
       "    </tr>\n",
       "    <tr>\n",
       "      <th>43</th>\n",
       "      <td>Laroche, Miss. Simonne Marie Anne Andree</td>\n",
       "      <td>2.0</td>\n",
       "      <td>1.0</td>\n",
       "      <td>1.0</td>\n",
       "      <td>3.00</td>\n",
       "      <td>4.0</td>\n",
       "      <td>Laroche,</td>\n",
       "      <td>Miss.</td>\n",
       "    </tr>\n",
       "    <tr>\n",
       "      <th>50</th>\n",
       "      <td>Panula, Master. Juha Niilo</td>\n",
       "      <td>1.0</td>\n",
       "      <td>4.0</td>\n",
       "      <td>0.0</td>\n",
       "      <td>7.00</td>\n",
       "      <td>6.0</td>\n",
       "      <td>Panula,</td>\n",
       "      <td>Master.</td>\n",
       "    </tr>\n",
       "    <tr>\n",
       "      <th>54</th>\n",
       "      <td>Ostby, Mr. Engelhart Cornelius</td>\n",
       "      <td>1.0</td>\n",
       "      <td>0.0</td>\n",
       "      <td>0.0</td>\n",
       "      <td>65.00</td>\n",
       "      <td>2.0</td>\n",
       "      <td>Ostby,</td>\n",
       "      <td>Mr.</td>\n",
       "    </tr>\n",
       "    <tr>\n",
       "      <th>58</th>\n",
       "      <td>West, Miss. Constance Mirium</td>\n",
       "      <td>2.0</td>\n",
       "      <td>1.0</td>\n",
       "      <td>1.0</td>\n",
       "      <td>5.00</td>\n",
       "      <td>4.0</td>\n",
       "      <td>West,</td>\n",
       "      <td>Miss.</td>\n",
       "    </tr>\n",
       "    <tr>\n",
       "      <th>59</th>\n",
       "      <td>Goodwin, Master. William Frederick</td>\n",
       "      <td>2.0</td>\n",
       "      <td>5.0</td>\n",
       "      <td>0.0</td>\n",
       "      <td>11.00</td>\n",
       "      <td>8.0</td>\n",
       "      <td>Goodwin,</td>\n",
       "      <td>Master.</td>\n",
       "    </tr>\n",
       "    <tr>\n",
       "      <th>63</th>\n",
       "      <td>Skoog, Master. Harald</td>\n",
       "      <td>2.0</td>\n",
       "      <td>3.0</td>\n",
       "      <td>0.0</td>\n",
       "      <td>4.00</td>\n",
       "      <td>6.0</td>\n",
       "      <td>Skoog,</td>\n",
       "      <td>Master.</td>\n",
       "    </tr>\n",
       "    <tr>\n",
       "      <th>65</th>\n",
       "      <td>Moubarek, Master. Gerios</td>\n",
       "      <td>1.0</td>\n",
       "      <td>1.0</td>\n",
       "      <td>1.0</td>\n",
       "      <td>NaN</td>\n",
       "      <td>3.0</td>\n",
       "      <td>Moubarek,</td>\n",
       "      <td>Master.</td>\n",
       "    </tr>\n",
       "    <tr>\n",
       "      <th>68</th>\n",
       "      <td>Andersson, Miss. Erna Alexandra</td>\n",
       "      <td>2.0</td>\n",
       "      <td>4.0</td>\n",
       "      <td>1.0</td>\n",
       "      <td>17.00</td>\n",
       "      <td>7.0</td>\n",
       "      <td>Andersson,</td>\n",
       "      <td>Miss.</td>\n",
       "    </tr>\n",
       "    <tr>\n",
       "      <th>71</th>\n",
       "      <td>Goodwin, Miss. Lillian Amy</td>\n",
       "      <td>2.0</td>\n",
       "      <td>5.0</td>\n",
       "      <td>0.0</td>\n",
       "      <td>16.00</td>\n",
       "      <td>8.0</td>\n",
       "      <td>Goodwin,</td>\n",
       "      <td>Miss.</td>\n",
       "    </tr>\n",
       "    <tr>\n",
       "      <th>78</th>\n",
       "      <td>Caldwell, Master. Alden Gates</td>\n",
       "      <td>2.0</td>\n",
       "      <td>0.0</td>\n",
       "      <td>1.0</td>\n",
       "      <td>0.83</td>\n",
       "      <td>3.0</td>\n",
       "      <td>Caldwell,</td>\n",
       "      <td>Master.</td>\n",
       "    </tr>\n",
       "    <tr>\n",
       "      <th>86</th>\n",
       "      <td>Ford, Mr. William Neal</td>\n",
       "      <td>3.0</td>\n",
       "      <td>1.0</td>\n",
       "      <td>0.0</td>\n",
       "      <td>16.00</td>\n",
       "      <td>5.0</td>\n",
       "      <td>Ford,</td>\n",
       "      <td>Mr.</td>\n",
       "    </tr>\n",
       "    <tr>\n",
       "      <th>88</th>\n",
       "      <td>Fortune, Miss. Mabel Helen</td>\n",
       "      <td>2.0</td>\n",
       "      <td>3.0</td>\n",
       "      <td>1.0</td>\n",
       "      <td>23.00</td>\n",
       "      <td>6.0</td>\n",
       "      <td>Fortune,</td>\n",
       "      <td>Miss.</td>\n",
       "    </tr>\n",
       "    <tr>\n",
       "      <th>93</th>\n",
       "      <td>Dean, Mr. Bertram Frank</td>\n",
       "      <td>2.0</td>\n",
       "      <td>1.0</td>\n",
       "      <td>0.0</td>\n",
       "      <td>26.00</td>\n",
       "      <td>4.0</td>\n",
       "      <td>Dean,</td>\n",
       "      <td>Mr.</td>\n",
       "    </tr>\n",
       "    <tr>\n",
       "      <th>97</th>\n",
       "      <td>Greenfield, Mr. William Bertram</td>\n",
       "      <td>1.0</td>\n",
       "      <td>0.0</td>\n",
       "      <td>1.0</td>\n",
       "      <td>23.00</td>\n",
       "      <td>2.0</td>\n",
       "      <td>Greenfield,</td>\n",
       "      <td>Mr.</td>\n",
       "    </tr>\n",
       "    <tr>\n",
       "      <th>98</th>\n",
       "      <td>Doling, Mrs. John T (Ada Julia Bone)</td>\n",
       "      <td>1.0</td>\n",
       "      <td>0.0</td>\n",
       "      <td>1.0</td>\n",
       "      <td>34.00</td>\n",
       "      <td>2.0</td>\n",
       "      <td>Doling,</td>\n",
       "      <td>Mrs.</td>\n",
       "    </tr>\n",
       "    <tr>\n",
       "      <th>102</th>\n",
       "      <td>White, Mr. Richard Frasar</td>\n",
       "      <td>1.0</td>\n",
       "      <td>0.0</td>\n",
       "      <td>0.0</td>\n",
       "      <td>21.00</td>\n",
       "      <td>2.0</td>\n",
       "      <td>White,</td>\n",
       "      <td>Mr.</td>\n",
       "    </tr>\n",
       "    <tr>\n",
       "      <th>118</th>\n",
       "      <td>Baxter, Mr. Quigg Edmond</td>\n",
       "      <td>1.0</td>\n",
       "      <td>0.0</td>\n",
       "      <td>0.0</td>\n",
       "      <td>24.00</td>\n",
       "      <td>2.0</td>\n",
       "      <td>Baxter,</td>\n",
       "      <td>Mr.</td>\n",
       "    </tr>\n",
       "    <tr>\n",
       "      <th>119</th>\n",
       "      <td>Andersson, Miss. Ellis Anna Maria</td>\n",
       "      <td>2.0</td>\n",
       "      <td>4.0</td>\n",
       "      <td>0.0</td>\n",
       "      <td>2.00</td>\n",
       "      <td>7.0</td>\n",
       "      <td>Andersson,</td>\n",
       "      <td>Miss.</td>\n",
       "    </tr>\n",
       "    <tr>\n",
       "      <th>124</th>\n",
       "      <td>White, Mr. Percival Wayland</td>\n",
       "      <td>1.0</td>\n",
       "      <td>0.0</td>\n",
       "      <td>0.0</td>\n",
       "      <td>54.00</td>\n",
       "      <td>2.0</td>\n",
       "      <td>White,</td>\n",
       "      <td>Mr.</td>\n",
       "    </tr>\n",
       "    <tr>\n",
       "      <th>128</th>\n",
       "      <td>Peter, Miss. Anna</td>\n",
       "      <td>1.0</td>\n",
       "      <td>1.0</td>\n",
       "      <td>1.0</td>\n",
       "      <td>NaN</td>\n",
       "      <td>3.0</td>\n",
       "      <td>Peter,</td>\n",
       "      <td>Miss.</td>\n",
       "    </tr>\n",
       "    <tr>\n",
       "      <th>136</th>\n",
       "      <td>Newsom, Miss. Helen Monypeny</td>\n",
       "      <td>2.0</td>\n",
       "      <td>0.0</td>\n",
       "      <td>1.0</td>\n",
       "      <td>19.00</td>\n",
       "      <td>3.0</td>\n",
       "      <td>Newsom,</td>\n",
       "      <td>Miss.</td>\n",
       "    </tr>\n",
       "    <tr>\n",
       "      <th>140</th>\n",
       "      <td>Boulos, Mrs. Joseph (Sultana)</td>\n",
       "      <td>2.0</td>\n",
       "      <td>0.0</td>\n",
       "      <td>0.0</td>\n",
       "      <td>NaN</td>\n",
       "      <td>3.0</td>\n",
       "      <td>Boulos,</td>\n",
       "      <td>Mrs.</td>\n",
       "    </tr>\n",
       "    <tr>\n",
       "      <th>...</th>\n",
       "      <td>...</td>\n",
       "      <td>...</td>\n",
       "      <td>...</td>\n",
       "      <td>...</td>\n",
       "      <td>...</td>\n",
       "      <td>...</td>\n",
       "      <td>...</td>\n",
       "      <td>...</td>\n",
       "    </tr>\n",
       "    <tr>\n",
       "      <th>802</th>\n",
       "      <td>Carter, Master. William Thornton II</td>\n",
       "      <td>2.0</td>\n",
       "      <td>1.0</td>\n",
       "      <td>1.0</td>\n",
       "      <td>11.00</td>\n",
       "      <td>4.0</td>\n",
       "      <td>Carter,</td>\n",
       "      <td>Master.</td>\n",
       "    </tr>\n",
       "    <tr>\n",
       "      <th>803</th>\n",
       "      <td>Thomas, Master. Assad Alexander</td>\n",
       "      <td>1.0</td>\n",
       "      <td>0.0</td>\n",
       "      <td>1.0</td>\n",
       "      <td>0.42</td>\n",
       "      <td>2.0</td>\n",
       "      <td>Thomas,</td>\n",
       "      <td>Master.</td>\n",
       "    </tr>\n",
       "    <tr>\n",
       "      <th>813</th>\n",
       "      <td>Andersson, Miss. Ebba Iris Alfrida</td>\n",
       "      <td>2.0</td>\n",
       "      <td>4.0</td>\n",
       "      <td>0.0</td>\n",
       "      <td>6.00</td>\n",
       "      <td>7.0</td>\n",
       "      <td>Andersson,</td>\n",
       "      <td>Miss.</td>\n",
       "    </tr>\n",
       "    <tr>\n",
       "      <th>817</th>\n",
       "      <td>Mallet, Mr. Albert</td>\n",
       "      <td>1.0</td>\n",
       "      <td>1.0</td>\n",
       "      <td>0.0</td>\n",
       "      <td>31.00</td>\n",
       "      <td>3.0</td>\n",
       "      <td>Mallet,</td>\n",
       "      <td>Mr.</td>\n",
       "    </tr>\n",
       "    <tr>\n",
       "      <th>819</th>\n",
       "      <td>Skoog, Master. Karl Thorsten</td>\n",
       "      <td>2.0</td>\n",
       "      <td>3.0</td>\n",
       "      <td>0.0</td>\n",
       "      <td>10.00</td>\n",
       "      <td>6.0</td>\n",
       "      <td>Skoog,</td>\n",
       "      <td>Master.</td>\n",
       "    </tr>\n",
       "    <tr>\n",
       "      <th>820</th>\n",
       "      <td>Hays, Mrs. Charles Melville (Clara Jennings Gr...</td>\n",
       "      <td>1.0</td>\n",
       "      <td>1.0</td>\n",
       "      <td>1.0</td>\n",
       "      <td>52.00</td>\n",
       "      <td>3.0</td>\n",
       "      <td>Hays,</td>\n",
       "      <td>Mrs.</td>\n",
       "    </tr>\n",
       "    <tr>\n",
       "      <th>823</th>\n",
       "      <td>Moor, Mrs. (Beila)</td>\n",
       "      <td>1.0</td>\n",
       "      <td>0.0</td>\n",
       "      <td>1.0</td>\n",
       "      <td>27.00</td>\n",
       "      <td>2.0</td>\n",
       "      <td>Moor,</td>\n",
       "      <td>Mrs.</td>\n",
       "    </tr>\n",
       "    <tr>\n",
       "      <th>824</th>\n",
       "      <td>Panula, Master. Urho Abraham</td>\n",
       "      <td>1.0</td>\n",
       "      <td>4.0</td>\n",
       "      <td>0.0</td>\n",
       "      <td>2.00</td>\n",
       "      <td>6.0</td>\n",
       "      <td>Panula,</td>\n",
       "      <td>Master.</td>\n",
       "    </tr>\n",
       "    <tr>\n",
       "      <th>827</th>\n",
       "      <td>Mallet, Master. Andre</td>\n",
       "      <td>2.0</td>\n",
       "      <td>0.0</td>\n",
       "      <td>1.0</td>\n",
       "      <td>1.00</td>\n",
       "      <td>3.0</td>\n",
       "      <td>Mallet,</td>\n",
       "      <td>Master.</td>\n",
       "    </tr>\n",
       "    <tr>\n",
       "      <th>831</th>\n",
       "      <td>Richards, Master. George Sibley</td>\n",
       "      <td>1.0</td>\n",
       "      <td>1.0</td>\n",
       "      <td>1.0</td>\n",
       "      <td>0.83</td>\n",
       "      <td>3.0</td>\n",
       "      <td>Richards,</td>\n",
       "      <td>Master.</td>\n",
       "    </tr>\n",
       "    <tr>\n",
       "      <th>835</th>\n",
       "      <td>Compton, Miss. Sara Rebecca</td>\n",
       "      <td>1.0</td>\n",
       "      <td>1.0</td>\n",
       "      <td>1.0</td>\n",
       "      <td>39.00</td>\n",
       "      <td>3.0</td>\n",
       "      <td>Compton,</td>\n",
       "      <td>Miss.</td>\n",
       "    </tr>\n",
       "    <tr>\n",
       "      <th>846</th>\n",
       "      <td>Sage, Mr. Douglas Bullen</td>\n",
       "      <td>2.0</td>\n",
       "      <td>8.0</td>\n",
       "      <td>0.0</td>\n",
       "      <td>NaN</td>\n",
       "      <td>11.0</td>\n",
       "      <td>Sage,</td>\n",
       "      <td>Mr.</td>\n",
       "    </tr>\n",
       "    <tr>\n",
       "      <th>848</th>\n",
       "      <td>Harper, Rev. John</td>\n",
       "      <td>1.0</td>\n",
       "      <td>0.0</td>\n",
       "      <td>0.0</td>\n",
       "      <td>28.00</td>\n",
       "      <td>2.0</td>\n",
       "      <td>Harper,</td>\n",
       "      <td>Mr.</td>\n",
       "    </tr>\n",
       "    <tr>\n",
       "      <th>850</th>\n",
       "      <td>Andersson, Master. Sigvard Harald Elias</td>\n",
       "      <td>2.0</td>\n",
       "      <td>4.0</td>\n",
       "      <td>0.0</td>\n",
       "      <td>4.00</td>\n",
       "      <td>7.0</td>\n",
       "      <td>Andersson,</td>\n",
       "      <td>Master.</td>\n",
       "    </tr>\n",
       "    <tr>\n",
       "      <th>852</th>\n",
       "      <td>Boulos, Miss. Nourelain</td>\n",
       "      <td>1.0</td>\n",
       "      <td>1.0</td>\n",
       "      <td>0.0</td>\n",
       "      <td>9.00</td>\n",
       "      <td>3.0</td>\n",
       "      <td>Boulos,</td>\n",
       "      <td>Miss.</td>\n",
       "    </tr>\n",
       "    <tr>\n",
       "      <th>853</th>\n",
       "      <td>Lines, Miss. Mary Conover</td>\n",
       "      <td>1.0</td>\n",
       "      <td>0.0</td>\n",
       "      <td>1.0</td>\n",
       "      <td>16.00</td>\n",
       "      <td>2.0</td>\n",
       "      <td>Lines,</td>\n",
       "      <td>Miss.</td>\n",
       "    </tr>\n",
       "    <tr>\n",
       "      <th>855</th>\n",
       "      <td>Aks, Mrs. Sam (Leah Rosen)</td>\n",
       "      <td>1.0</td>\n",
       "      <td>0.0</td>\n",
       "      <td>1.0</td>\n",
       "      <td>18.00</td>\n",
       "      <td>2.0</td>\n",
       "      <td>Aks,</td>\n",
       "      <td>Mrs.</td>\n",
       "    </tr>\n",
       "    <tr>\n",
       "      <th>856</th>\n",
       "      <td>Wick, Mrs. George Dennick (Mary Hitchcock)</td>\n",
       "      <td>1.0</td>\n",
       "      <td>1.0</td>\n",
       "      <td>1.0</td>\n",
       "      <td>45.00</td>\n",
       "      <td>3.0</td>\n",
       "      <td>Wick,</td>\n",
       "      <td>Mrs.</td>\n",
       "    </tr>\n",
       "    <tr>\n",
       "      <th>858</th>\n",
       "      <td>Baclini, Mrs. Solomon (Latifa Qurban)</td>\n",
       "      <td>3.0</td>\n",
       "      <td>0.0</td>\n",
       "      <td>1.0</td>\n",
       "      <td>24.00</td>\n",
       "      <td>4.0</td>\n",
       "      <td>Baclini,</td>\n",
       "      <td>Mrs.</td>\n",
       "    </tr>\n",
       "    <tr>\n",
       "      <th>863</th>\n",
       "      <td>Sage, Miss. Dorothy Edith \"Dolly\"</td>\n",
       "      <td>2.0</td>\n",
       "      <td>8.0</td>\n",
       "      <td>0.0</td>\n",
       "      <td>NaN</td>\n",
       "      <td>11.0</td>\n",
       "      <td>Sage,</td>\n",
       "      <td>Miss.</td>\n",
       "    </tr>\n",
       "    <tr>\n",
       "      <th>869</th>\n",
       "      <td>Johnson, Master. Harold Theodor</td>\n",
       "      <td>1.0</td>\n",
       "      <td>1.0</td>\n",
       "      <td>1.0</td>\n",
       "      <td>4.00</td>\n",
       "      <td>3.0</td>\n",
       "      <td>Johnson,</td>\n",
       "      <td>Master.</td>\n",
       "    </tr>\n",
       "    <tr>\n",
       "      <th>871</th>\n",
       "      <td>Beckwith, Mrs. Richard Leonard (Sallie Monypeny)</td>\n",
       "      <td>1.0</td>\n",
       "      <td>1.0</td>\n",
       "      <td>1.0</td>\n",
       "      <td>47.00</td>\n",
       "      <td>3.0</td>\n",
       "      <td>Beckwith,</td>\n",
       "      <td>Mrs.</td>\n",
       "    </tr>\n",
       "    <tr>\n",
       "      <th>879</th>\n",
       "      <td>Potter, Mrs. Thomas Jr (Lily Alexenia Wilson)</td>\n",
       "      <td>1.0</td>\n",
       "      <td>0.0</td>\n",
       "      <td>1.0</td>\n",
       "      <td>56.00</td>\n",
       "      <td>2.0</td>\n",
       "      <td>Potter,</td>\n",
       "      <td>Mrs.</td>\n",
       "    </tr>\n",
       "    <tr>\n",
       "      <th>880</th>\n",
       "      <td>Shelley, Mrs. William (Imanita Parrish Hall)</td>\n",
       "      <td>1.0</td>\n",
       "      <td>0.0</td>\n",
       "      <td>1.0</td>\n",
       "      <td>25.00</td>\n",
       "      <td>2.0</td>\n",
       "      <td>Shelley,</td>\n",
       "      <td>Mrs.</td>\n",
       "    </tr>\n",
       "    <tr>\n",
       "      <th>885</th>\n",
       "      <td>Rice, Mrs. William (Margaret Norton)</td>\n",
       "      <td>5.0</td>\n",
       "      <td>0.0</td>\n",
       "      <td>0.0</td>\n",
       "      <td>39.00</td>\n",
       "      <td>6.0</td>\n",
       "      <td>Rice,</td>\n",
       "      <td>Mrs.</td>\n",
       "    </tr>\n",
       "    <tr>\n",
       "      <th>888</th>\n",
       "      <td>Johnston, Miss. Catherine Helen \"Carrie\"</td>\n",
       "      <td>2.0</td>\n",
       "      <td>1.0</td>\n",
       "      <td>0.0</td>\n",
       "      <td>NaN</td>\n",
       "      <td>4.0</td>\n",
       "      <td>Johnston,</td>\n",
       "      <td>Miss.</td>\n",
       "    </tr>\n",
       "    <tr>\n",
       "      <th>14</th>\n",
       "      <td>Vestrom, Miss. Hulda Amanda Adolfina</td>\n",
       "      <td>0.0</td>\n",
       "      <td>0.0</td>\n",
       "      <td>0.0</td>\n",
       "      <td>14.00</td>\n",
       "      <td>1.0</td>\n",
       "      <td>Vestrom,</td>\n",
       "      <td>Miss.</td>\n",
       "    </tr>\n",
       "    <tr>\n",
       "      <th>731</th>\n",
       "      <td>Hassan, Mr. Houssein G N</td>\n",
       "      <td>0.0</td>\n",
       "      <td>0.0</td>\n",
       "      <td>0.0</td>\n",
       "      <td>11.00</td>\n",
       "      <td>1.0</td>\n",
       "      <td>Hassan,</td>\n",
       "      <td>Mr.</td>\n",
       "    </tr>\n",
       "    <tr>\n",
       "      <th>777</th>\n",
       "      <td>Emanuel, Miss. Virginia Ethel</td>\n",
       "      <td>0.0</td>\n",
       "      <td>0.0</td>\n",
       "      <td>1.0</td>\n",
       "      <td>5.00</td>\n",
       "      <td>1.0</td>\n",
       "      <td>Emanuel,</td>\n",
       "      <td>Miss.</td>\n",
       "    </tr>\n",
       "    <tr>\n",
       "      <th>780</th>\n",
       "      <td>Ayoub, Miss. Banoura</td>\n",
       "      <td>0.0</td>\n",
       "      <td>0.0</td>\n",
       "      <td>1.0</td>\n",
       "      <td>13.00</td>\n",
       "      <td>1.0</td>\n",
       "      <td>Ayoub,</td>\n",
       "      <td>Miss.</td>\n",
       "    </tr>\n",
       "  </tbody>\n",
       "</table>\n",
       "<p>217 rows × 8 columns</p>\n",
       "</div>"
      ],
      "text/plain": [
       "                                                  Name  Parch  SibSp  \\\n",
       "7                       Palsson, Master. Gosta Leonard    1.0    3.0   \n",
       "8    Johnson, Mrs. Oscar W (Elisabeth Vilhelmina Berg)    2.0    0.0   \n",
       "10                     Sandstrom, Miss. Marguerite Rut    1.0    1.0   \n",
       "13                         Andersson, Mr. Anders Johan    5.0    1.0   \n",
       "16                                Rice, Master. Eugene    1.0    4.0   \n",
       "24                       Palsson, Miss. Torborg Danira    1.0    3.0   \n",
       "25   Asplund, Mrs. Carl Oscar (Selma Augusta Emilia...    5.0    1.0   \n",
       "27                      Fortune, Mr. Charles Alexander    2.0    3.0   \n",
       "43            Laroche, Miss. Simonne Marie Anne Andree    2.0    1.0   \n",
       "50                          Panula, Master. Juha Niilo    1.0    4.0   \n",
       "54                      Ostby, Mr. Engelhart Cornelius    1.0    0.0   \n",
       "58                        West, Miss. Constance Mirium    2.0    1.0   \n",
       "59                  Goodwin, Master. William Frederick    2.0    5.0   \n",
       "63                               Skoog, Master. Harald    2.0    3.0   \n",
       "65                            Moubarek, Master. Gerios    1.0    1.0   \n",
       "68                     Andersson, Miss. Erna Alexandra    2.0    4.0   \n",
       "71                          Goodwin, Miss. Lillian Amy    2.0    5.0   \n",
       "78                       Caldwell, Master. Alden Gates    2.0    0.0   \n",
       "86                              Ford, Mr. William Neal    3.0    1.0   \n",
       "88                          Fortune, Miss. Mabel Helen    2.0    3.0   \n",
       "93                             Dean, Mr. Bertram Frank    2.0    1.0   \n",
       "97                     Greenfield, Mr. William Bertram    1.0    0.0   \n",
       "98                Doling, Mrs. John T (Ada Julia Bone)    1.0    0.0   \n",
       "102                          White, Mr. Richard Frasar    1.0    0.0   \n",
       "118                           Baxter, Mr. Quigg Edmond    1.0    0.0   \n",
       "119                  Andersson, Miss. Ellis Anna Maria    2.0    4.0   \n",
       "124                        White, Mr. Percival Wayland    1.0    0.0   \n",
       "128                                  Peter, Miss. Anna    1.0    1.0   \n",
       "136                       Newsom, Miss. Helen Monypeny    2.0    0.0   \n",
       "140                      Boulos, Mrs. Joseph (Sultana)    2.0    0.0   \n",
       "..                                                 ...    ...    ...   \n",
       "802                Carter, Master. William Thornton II    2.0    1.0   \n",
       "803                    Thomas, Master. Assad Alexander    1.0    0.0   \n",
       "813                 Andersson, Miss. Ebba Iris Alfrida    2.0    4.0   \n",
       "817                                 Mallet, Mr. Albert    1.0    1.0   \n",
       "819                       Skoog, Master. Karl Thorsten    2.0    3.0   \n",
       "820  Hays, Mrs. Charles Melville (Clara Jennings Gr...    1.0    1.0   \n",
       "823                                 Moor, Mrs. (Beila)    1.0    0.0   \n",
       "824                       Panula, Master. Urho Abraham    1.0    4.0   \n",
       "827                              Mallet, Master. Andre    2.0    0.0   \n",
       "831                    Richards, Master. George Sibley    1.0    1.0   \n",
       "835                        Compton, Miss. Sara Rebecca    1.0    1.0   \n",
       "846                           Sage, Mr. Douglas Bullen    2.0    8.0   \n",
       "848                                  Harper, Rev. John    1.0    0.0   \n",
       "850            Andersson, Master. Sigvard Harald Elias    2.0    4.0   \n",
       "852                            Boulos, Miss. Nourelain    1.0    1.0   \n",
       "853                          Lines, Miss. Mary Conover    1.0    0.0   \n",
       "855                         Aks, Mrs. Sam (Leah Rosen)    1.0    0.0   \n",
       "856         Wick, Mrs. George Dennick (Mary Hitchcock)    1.0    1.0   \n",
       "858              Baclini, Mrs. Solomon (Latifa Qurban)    3.0    0.0   \n",
       "863                  Sage, Miss. Dorothy Edith \"Dolly\"    2.0    8.0   \n",
       "869                    Johnson, Master. Harold Theodor    1.0    1.0   \n",
       "871   Beckwith, Mrs. Richard Leonard (Sallie Monypeny)    1.0    1.0   \n",
       "879      Potter, Mrs. Thomas Jr (Lily Alexenia Wilson)    1.0    0.0   \n",
       "880       Shelley, Mrs. William (Imanita Parrish Hall)    1.0    0.0   \n",
       "885               Rice, Mrs. William (Margaret Norton)    5.0    0.0   \n",
       "888           Johnston, Miss. Catherine Helen \"Carrie\"    2.0    1.0   \n",
       "14                Vestrom, Miss. Hulda Amanda Adolfina    0.0    0.0   \n",
       "731                           Hassan, Mr. Houssein G N    0.0    0.0   \n",
       "777                      Emanuel, Miss. Virginia Ethel    0.0    0.0   \n",
       "780                               Ayoub, Miss. Banoura    0.0    0.0   \n",
       "\n",
       "     Survived    Age  numberofmembers     lastname    title  \n",
       "7         0.0   2.00              5.0     Palsson,  Master.  \n",
       "8         1.0  27.00              3.0     Johnson,     Mrs.  \n",
       "10        1.0   4.00              3.0   Sandstrom,    Miss.  \n",
       "13        0.0  39.00              7.0   Andersson,      Mr.  \n",
       "16        0.0   2.00              6.0        Rice,  Master.  \n",
       "24        0.0   8.00              5.0     Palsson,    Miss.  \n",
       "25        1.0  38.00              7.0     Asplund,     Mrs.  \n",
       "27        0.0  19.00              6.0     Fortune,      Mr.  \n",
       "43        1.0   3.00              4.0     Laroche,    Miss.  \n",
       "50        0.0   7.00              6.0      Panula,  Master.  \n",
       "54        0.0  65.00              2.0       Ostby,      Mr.  \n",
       "58        1.0   5.00              4.0        West,    Miss.  \n",
       "59        0.0  11.00              8.0     Goodwin,  Master.  \n",
       "63        0.0   4.00              6.0       Skoog,  Master.  \n",
       "65        1.0    NaN              3.0    Moubarek,  Master.  \n",
       "68        1.0  17.00              7.0   Andersson,    Miss.  \n",
       "71        0.0  16.00              8.0     Goodwin,    Miss.  \n",
       "78        1.0   0.83              3.0    Caldwell,  Master.  \n",
       "86        0.0  16.00              5.0        Ford,      Mr.  \n",
       "88        1.0  23.00              6.0     Fortune,    Miss.  \n",
       "93        0.0  26.00              4.0        Dean,      Mr.  \n",
       "97        1.0  23.00              2.0  Greenfield,      Mr.  \n",
       "98        1.0  34.00              2.0      Doling,     Mrs.  \n",
       "102       0.0  21.00              2.0       White,      Mr.  \n",
       "118       0.0  24.00              2.0      Baxter,      Mr.  \n",
       "119       0.0   2.00              7.0   Andersson,    Miss.  \n",
       "124       0.0  54.00              2.0       White,      Mr.  \n",
       "128       1.0    NaN              3.0       Peter,    Miss.  \n",
       "136       1.0  19.00              3.0      Newsom,    Miss.  \n",
       "140       0.0    NaN              3.0      Boulos,     Mrs.  \n",
       "..        ...    ...              ...          ...      ...  \n",
       "802       1.0  11.00              4.0      Carter,  Master.  \n",
       "803       1.0   0.42              2.0      Thomas,  Master.  \n",
       "813       0.0   6.00              7.0   Andersson,    Miss.  \n",
       "817       0.0  31.00              3.0      Mallet,      Mr.  \n",
       "819       0.0  10.00              6.0       Skoog,  Master.  \n",
       "820       1.0  52.00              3.0        Hays,     Mrs.  \n",
       "823       1.0  27.00              2.0        Moor,     Mrs.  \n",
       "824       0.0   2.00              6.0      Panula,  Master.  \n",
       "827       1.0   1.00              3.0      Mallet,  Master.  \n",
       "831       1.0   0.83              3.0    Richards,  Master.  \n",
       "835       1.0  39.00              3.0     Compton,    Miss.  \n",
       "846       0.0    NaN             11.0        Sage,      Mr.  \n",
       "848       0.0  28.00              2.0      Harper,      Mr.  \n",
       "850       0.0   4.00              7.0   Andersson,  Master.  \n",
       "852       0.0   9.00              3.0      Boulos,    Miss.  \n",
       "853       1.0  16.00              2.0       Lines,    Miss.  \n",
       "855       1.0  18.00              2.0         Aks,     Mrs.  \n",
       "856       1.0  45.00              3.0        Wick,     Mrs.  \n",
       "858       1.0  24.00              4.0     Baclini,     Mrs.  \n",
       "863       0.0    NaN             11.0        Sage,    Miss.  \n",
       "869       1.0   4.00              3.0     Johnson,  Master.  \n",
       "871       1.0  47.00              3.0    Beckwith,     Mrs.  \n",
       "879       1.0  56.00              2.0      Potter,     Mrs.  \n",
       "880       1.0  25.00              2.0     Shelley,     Mrs.  \n",
       "885       0.0  39.00              6.0        Rice,     Mrs.  \n",
       "888       0.0    NaN              4.0    Johnston,    Miss.  \n",
       "14        0.0  14.00              1.0     Vestrom,    Miss.  \n",
       "731       0.0  11.00              1.0      Hassan,      Mr.  \n",
       "777       1.0   5.00              1.0     Emanuel,    Miss.  \n",
       "780       1.0  13.00              1.0       Ayoub,    Miss.  \n",
       "\n",
       "[217 rows x 8 columns]"
      ]
     },
     "execution_count": 32,
     "metadata": {},
     "output_type": "execute_result"
    }
   ],
   "source": [
    "## Correct title\n",
    "family_title = family_lastname.assign(title=family_lastname['Name'].str.split().str[1])\n",
    "family_title.set_value(family_title[family_title['title']=='Capt.'].index,'title','Mr.')\n",
    "family_title.set_value(family_title[family_title['title']=='Rev.'].index,'title','Mr.')\n",
    "index_billiard = family_title[family_title['title']=='Billiard,'].index\n",
    "family_title.set_value(index_billiard,'title', family_title[family_title['title']=='Billiard,']['Name'].str.split().str[2])\n",
    "index_impe = family_title[family_title['title']=='Impe,'].index\n",
    "family_title.set_value(index_impe,'title', family_title[family_title['title']=='Impe,']['Name'].str.split().str[2])\n",
    "## Correct lastname for van billiard and Van Impe\n",
    "family_title.set_value(index_billiard, 'lastname', 'van Billiard')\n",
    "family_title.set_value(index_impe, 'lastname', 'Van Impe')"
   ]
  },
  {
   "cell_type": "code",
   "execution_count": 33,
   "metadata": {},
   "outputs": [
    {
     "name": "stdout",
     "output_type": "stream",
     "text": [
      "Survival proportion by title among families: title\n",
      "Master.    0.564103\n",
      "Miss.      0.626866\n",
      "Mr.        0.127273\n",
      "Mrs.       0.714286\n",
      "Name: Survived, dtype: float64\n"
     ]
    }
   ],
   "source": [
    "Survival_proportion_by_title_among_families = family_title.groupby('title')['Survived'].mean()\n",
    "print 'Survival proportion by title among families:', Survival_proportion_by_title_among_families"
   ]
  },
  {
   "cell_type": "markdown",
   "metadata": {
    "collapsed": true
   },
   "source": [
    "The survival proportion was found to be larger for passengers with family members aboard than for passengers travelling alone. A correlation was not proven. It must be considered that this dataset only operates with 891 passengers, which is 30% of the number of titanic passengers. Hence, when comparing two survival proportions for two sets of passengers, in this case individuals and family members, it could be that the whole population presents different behaviour. \n",
    "Within a family, the survival was found highest among Mrs, Master and Miss. The reason for this might be because Master, Miss are mostly children and because Mrs were mothers and also because females in this sample had a larger survival proportion than males. However, further analysis and statistical tests would be needed to prove this."
   ]
  },
  {
   "cell_type": "code",
   "execution_count": null,
   "metadata": {
    "collapsed": true
   },
   "outputs": [],
   "source": []
  },
  {
   "cell_type": "code",
   "execution_count": null,
   "metadata": {
    "collapsed": true
   },
   "outputs": [],
   "source": []
  }
 ],
 "metadata": {
  "anaconda-cloud": {},
  "kernelspec": {
   "display_name": "Python 3",
   "language": "python",
   "name": "python3"
  },
  "language_info": {
   "codemirror_mode": {
    "name": "ipython",
    "version": 3
   },
   "file_extension": ".py",
   "mimetype": "text/x-python",
   "name": "python",
   "nbconvert_exporter": "python",
   "pygments_lexer": "ipython3",
   "version": "3.6.3"
  }
 },
 "nbformat": 4,
 "nbformat_minor": 1
}
